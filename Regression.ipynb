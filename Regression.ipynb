{
 "cells": [
  {
   "cell_type": "code",
   "execution_count": 1,
   "id": "a7b289dd",
   "metadata": {},
   "outputs": [],
   "source": [
    "import numpy as np\n",
    "import matplotlib.pyplot as plt\n",
    "import pandas as pd\n",
    "import astropy.table as atpy\n",
    "from sklearn import linear_model"
   ]
  },
  {
   "cell_type": "code",
   "execution_count": 5,
   "id": "e7fe1522",
   "metadata": {},
   "outputs": [],
   "source": [
    "ra_dp = [180, 250]\n",
    "dec_dp = [-5, 40]"
   ]
  },
  {
   "cell_type": "code",
   "execution_count": 13,
   "id": "e642cfa4",
   "metadata": {},
   "outputs": [
    {
     "data": {
      "text/html": [
       "<div>\n",
       "<style scoped>\n",
       "    .dataframe tbody tr th:only-of-type {\n",
       "        vertical-align: middle;\n",
       "    }\n",
       "\n",
       "    .dataframe tbody tr th {\n",
       "        vertical-align: top;\n",
       "    }\n",
       "\n",
       "    .dataframe thead th {\n",
       "        text-align: right;\n",
       "    }\n",
       "</style>\n",
       "<table border=\"1\" class=\"dataframe\">\n",
       "  <thead>\n",
       "    <tr style=\"text-align: right;\">\n",
       "      <th></th>\n",
       "      <th>Ra</th>\n",
       "      <th>Dec</th>\n",
       "      <th>Mass500</th>\n",
       "      <th>RedShift</th>\n",
       "      <th>Radius</th>\n",
       "    </tr>\n",
       "  </thead>\n",
       "  <tbody>\n",
       "    <tr>\n",
       "      <th>0</th>\n",
       "      <td>0.020898</td>\n",
       "      <td>-38.626732</td>\n",
       "      <td>1.696723</td>\n",
       "      <td>0.300599</td>\n",
       "      <td>0</td>\n",
       "    </tr>\n",
       "    <tr>\n",
       "      <th>1</th>\n",
       "      <td>0.060601</td>\n",
       "      <td>-43.955494</td>\n",
       "      <td>2.457475</td>\n",
       "      <td>0.878131</td>\n",
       "      <td>0</td>\n",
       "    </tr>\n",
       "    <tr>\n",
       "      <th>2</th>\n",
       "      <td>0.089900</td>\n",
       "      <td>-28.091249</td>\n",
       "      <td>2.730490</td>\n",
       "      <td>0.282570</td>\n",
       "      <td>0</td>\n",
       "    </tr>\n",
       "    <tr>\n",
       "      <th>3</th>\n",
       "      <td>0.083333</td>\n",
       "      <td>-39.604169</td>\n",
       "      <td>1.490711</td>\n",
       "      <td>0.356218</td>\n",
       "      <td>0</td>\n",
       "    </tr>\n",
       "    <tr>\n",
       "      <th>4</th>\n",
       "      <td>0.113533</td>\n",
       "      <td>-1.044811</td>\n",
       "      <td>1.516593</td>\n",
       "      <td>0.438800</td>\n",
       "      <td>0</td>\n",
       "    </tr>\n",
       "    <tr>\n",
       "      <th>...</th>\n",
       "      <td>...</td>\n",
       "      <td>...</td>\n",
       "      <td>...</td>\n",
       "      <td>...</td>\n",
       "      <td>...</td>\n",
       "    </tr>\n",
       "    <tr>\n",
       "      <th>4190</th>\n",
       "      <td>359.727531</td>\n",
       "      <td>-43.905169</td>\n",
       "      <td>2.639904</td>\n",
       "      <td>0.734463</td>\n",
       "      <td>0</td>\n",
       "    </tr>\n",
       "    <tr>\n",
       "      <th>4191</th>\n",
       "      <td>359.887357</td>\n",
       "      <td>2.138787</td>\n",
       "      <td>2.722980</td>\n",
       "      <td>0.429373</td>\n",
       "      <td>0</td>\n",
       "    </tr>\n",
       "    <tr>\n",
       "      <th>4192</th>\n",
       "      <td>359.889739</td>\n",
       "      <td>-46.143628</td>\n",
       "      <td>1.461240</td>\n",
       "      <td>1.223600</td>\n",
       "      <td>0</td>\n",
       "    </tr>\n",
       "    <tr>\n",
       "      <th>4193</th>\n",
       "      <td>359.929865</td>\n",
       "      <td>-50.169857</td>\n",
       "      <td>2.980008</td>\n",
       "      <td>0.775000</td>\n",
       "      <td>0</td>\n",
       "    </tr>\n",
       "    <tr>\n",
       "      <th>4194</th>\n",
       "      <td>359.988274</td>\n",
       "      <td>-32.943636</td>\n",
       "      <td>2.163558</td>\n",
       "      <td>0.686000</td>\n",
       "      <td>0</td>\n",
       "    </tr>\n",
       "  </tbody>\n",
       "</table>\n",
       "<p>4195 rows × 5 columns</p>\n",
       "</div>"
      ],
      "text/plain": [
       "              Ra        Dec   Mass500  RedShift  Radius\n",
       "0       0.020898 -38.626732  1.696723  0.300599       0\n",
       "1       0.060601 -43.955494  2.457475  0.878131       0\n",
       "2       0.089900 -28.091249  2.730490  0.282570       0\n",
       "3       0.083333 -39.604169  1.490711  0.356218       0\n",
       "4       0.113533  -1.044811  1.516593  0.438800       0\n",
       "...          ...        ...       ...       ...     ...\n",
       "4190  359.727531 -43.905169  2.639904  0.734463       0\n",
       "4191  359.887357   2.138787  2.722980  0.429373       0\n",
       "4192  359.889739 -46.143628  1.461240  1.223600       0\n",
       "4193  359.929865 -50.169857  2.980008  0.775000       0\n",
       "4194  359.988274 -32.943636  2.163558  0.686000       0\n",
       "\n",
       "[4195 rows x 5 columns]"
      ]
     },
     "execution_count": 13,
     "metadata": {},
     "output_type": "execute_result"
    }
   ],
   "source": [
    "tab = atpy.Table().read('DR5_cluster-catalog_v1.1.fits')\n",
    "ras = tab['RADeg']\n",
    "decs = tab['decDeg']\n",
    "mass = tab['M500c']\n",
    "dist = tab['redshift']\n",
    "df = pd.DataFrame(dict(\n",
    "    Ra = list(ras),\n",
    "    Dec = list(decs),\n",
    "    Mass500 = list(mass),\n",
    "    RedShift = list(dist),\n",
    "    Radius = [0] * len(ras)\n",
    "))\n",
    "df"
   ]
  },
  {
   "cell_type": "code",
   "execution_count": 7,
   "id": "d5b40526",
   "metadata": {},
   "outputs": [],
   "source": [
    "rads = {}"
   ]
  },
  {
   "cell_type": "code",
   "execution_count": 11,
   "id": "fad70dbc",
   "metadata": {
    "scrolled": true
   },
   "outputs": [
    {
     "data": {
      "text/plain": [
       "{3210: 3.2,\n",
       " 3354: 3,\n",
       " 3310: 2,\n",
       " 1957: 2,\n",
       " 3564: 2,\n",
       " 3629: 3.5,\n",
       " 3142: 3,\n",
       " 2809: 3,\n",
       " 3458: 2,\n",
       " 2049: 2,\n",
       " 2240: 4,\n",
       " 2647: 4,\n",
       " 2505: 3,\n",
       " 1934: 3,\n",
       " 2196: 2,\n",
       " 3270: 4,\n",
       " 1920: 3,\n",
       " 3407: 3,\n",
       " 1907: 3,\n",
       " 2580: 2}"
      ]
     },
     "execution_count": 11,
     "metadata": {},
     "output_type": "execute_result"
    }
   ],
   "source": [
    "a = [3033, 3704, 3505, 3616, 1929]\n",
    "r = [4, 3, 3, 3, 2]\n",
    "for i,j  in zip(a, r):\n",
    "    rads[i] = j\n",
    "rads"
   ]
  },
  {
   "cell_type": "code",
   "execution_count": 14,
   "id": "42113c9a",
   "metadata": {},
   "outputs": [],
   "source": [
    "for i in rads:\n",
    "    df.loc[i, 'Radius'] = rads[i]"
   ]
  },
  {
   "cell_type": "code",
   "execution_count": 15,
   "id": "68f4c4f2",
   "metadata": {},
   "outputs": [],
   "source": [
    "data = df.loc[list(rads.keys())].drop(['Ra', 'Dec'], axis=1)"
   ]
  },
  {
   "cell_type": "code",
   "execution_count": 16,
   "id": "3e900c16",
   "metadata": {},
   "outputs": [
    {
     "data": {
      "text/html": [
       "<div>\n",
       "<style scoped>\n",
       "    .dataframe tbody tr th:only-of-type {\n",
       "        vertical-align: middle;\n",
       "    }\n",
       "\n",
       "    .dataframe tbody tr th {\n",
       "        vertical-align: top;\n",
       "    }\n",
       "\n",
       "    .dataframe thead th {\n",
       "        text-align: right;\n",
       "    }\n",
       "</style>\n",
       "<table border=\"1\" class=\"dataframe\">\n",
       "  <thead>\n",
       "    <tr style=\"text-align: right;\">\n",
       "      <th></th>\n",
       "      <th>Mass500</th>\n",
       "      <th>RedShift</th>\n",
       "      <th>Radius</th>\n",
       "    </tr>\n",
       "  </thead>\n",
       "  <tbody>\n",
       "    <tr>\n",
       "      <th>3210</th>\n",
       "      <td>4.028956</td>\n",
       "      <td>0.414000</td>\n",
       "      <td>3.2</td>\n",
       "    </tr>\n",
       "    <tr>\n",
       "      <th>3354</th>\n",
       "      <td>3.740221</td>\n",
       "      <td>0.417800</td>\n",
       "      <td>3.0</td>\n",
       "    </tr>\n",
       "    <tr>\n",
       "      <th>3310</th>\n",
       "      <td>3.370884</td>\n",
       "      <td>0.421329</td>\n",
       "      <td>2.0</td>\n",
       "    </tr>\n",
       "    <tr>\n",
       "      <th>1957</th>\n",
       "      <td>3.052695</td>\n",
       "      <td>0.407446</td>\n",
       "      <td>2.0</td>\n",
       "    </tr>\n",
       "    <tr>\n",
       "      <th>3564</th>\n",
       "      <td>2.843697</td>\n",
       "      <td>0.423300</td>\n",
       "      <td>2.0</td>\n",
       "    </tr>\n",
       "    <tr>\n",
       "      <th>3629</th>\n",
       "      <td>3.976591</td>\n",
       "      <td>0.490400</td>\n",
       "      <td>3.5</td>\n",
       "    </tr>\n",
       "    <tr>\n",
       "      <th>3142</th>\n",
       "      <td>3.683992</td>\n",
       "      <td>0.504071</td>\n",
       "      <td>3.0</td>\n",
       "    </tr>\n",
       "    <tr>\n",
       "      <th>2809</th>\n",
       "      <td>3.363928</td>\n",
       "      <td>0.501000</td>\n",
       "      <td>3.0</td>\n",
       "    </tr>\n",
       "    <tr>\n",
       "      <th>3458</th>\n",
       "      <td>3.109978</td>\n",
       "      <td>0.499400</td>\n",
       "      <td>2.0</td>\n",
       "    </tr>\n",
       "    <tr>\n",
       "      <th>2049</th>\n",
       "      <td>2.760737</td>\n",
       "      <td>0.487207</td>\n",
       "      <td>2.0</td>\n",
       "    </tr>\n",
       "    <tr>\n",
       "      <th>2240</th>\n",
       "      <td>4.328044</td>\n",
       "      <td>0.789868</td>\n",
       "      <td>4.0</td>\n",
       "    </tr>\n",
       "    <tr>\n",
       "      <th>2647</th>\n",
       "      <td>4.015109</td>\n",
       "      <td>0.789300</td>\n",
       "      <td>4.0</td>\n",
       "    </tr>\n",
       "    <tr>\n",
       "      <th>2505</th>\n",
       "      <td>3.740221</td>\n",
       "      <td>0.768000</td>\n",
       "      <td>3.0</td>\n",
       "    </tr>\n",
       "    <tr>\n",
       "      <th>1934</th>\n",
       "      <td>3.382509</td>\n",
       "      <td>0.789186</td>\n",
       "      <td>3.0</td>\n",
       "    </tr>\n",
       "    <tr>\n",
       "      <th>2196</th>\n",
       "      <td>2.822241</td>\n",
       "      <td>0.785000</td>\n",
       "      <td>2.0</td>\n",
       "    </tr>\n",
       "    <tr>\n",
       "      <th>3270</th>\n",
       "      <td>4.289476</td>\n",
       "      <td>0.846200</td>\n",
       "      <td>4.0</td>\n",
       "    </tr>\n",
       "    <tr>\n",
       "      <th>1920</th>\n",
       "      <td>3.678922</td>\n",
       "      <td>0.856400</td>\n",
       "      <td>3.0</td>\n",
       "    </tr>\n",
       "    <tr>\n",
       "      <th>3407</th>\n",
       "      <td>3.408225</td>\n",
       "      <td>0.856400</td>\n",
       "      <td>3.0</td>\n",
       "    </tr>\n",
       "    <tr>\n",
       "      <th>1907</th>\n",
       "      <td>3.131465</td>\n",
       "      <td>0.856400</td>\n",
       "      <td>3.0</td>\n",
       "    </tr>\n",
       "    <tr>\n",
       "      <th>2580</th>\n",
       "      <td>2.785560</td>\n",
       "      <td>0.856400</td>\n",
       "      <td>2.0</td>\n",
       "    </tr>\n",
       "  </tbody>\n",
       "</table>\n",
       "</div>"
      ],
      "text/plain": [
       "       Mass500  RedShift  Radius\n",
       "3210  4.028956  0.414000     3.2\n",
       "3354  3.740221  0.417800     3.0\n",
       "3310  3.370884  0.421329     2.0\n",
       "1957  3.052695  0.407446     2.0\n",
       "3564  2.843697  0.423300     2.0\n",
       "3629  3.976591  0.490400     3.5\n",
       "3142  3.683992  0.504071     3.0\n",
       "2809  3.363928  0.501000     3.0\n",
       "3458  3.109978  0.499400     2.0\n",
       "2049  2.760737  0.487207     2.0\n",
       "2240  4.328044  0.789868     4.0\n",
       "2647  4.015109  0.789300     4.0\n",
       "2505  3.740221  0.768000     3.0\n",
       "1934  3.382509  0.789186     3.0\n",
       "2196  2.822241  0.785000     2.0\n",
       "3270  4.289476  0.846200     4.0\n",
       "1920  3.678922  0.856400     3.0\n",
       "3407  3.408225  0.856400     3.0\n",
       "1907  3.131465  0.856400     3.0\n",
       "2580  2.785560  0.856400     2.0"
      ]
     },
     "execution_count": 16,
     "metadata": {},
     "output_type": "execute_result"
    }
   ],
   "source": [
    "data"
   ]
  },
  {
   "cell_type": "code",
   "execution_count": 17,
   "id": "bf486aec",
   "metadata": {},
   "outputs": [
    {
     "data": {
      "text/plain": [
       "LinearRegression()"
      ]
     },
     "execution_count": 17,
     "metadata": {},
     "output_type": "execute_result"
    }
   ],
   "source": [
    "reg = linear_model.LinearRegression()\n",
    "reg.fit(data[['Mass500','RedShift']], data.Radius)"
   ]
  },
  {
   "cell_type": "code",
   "execution_count": 18,
   "id": "13363af3",
   "metadata": {},
   "outputs": [
    {
     "data": {
      "text/plain": [
       "array([1.24509305, 0.96399278])"
      ]
     },
     "execution_count": 18,
     "metadata": {},
     "output_type": "execute_result"
    }
   ],
   "source": [
    "reg.coef_"
   ]
  },
  {
   "cell_type": "code",
   "execution_count": 19,
   "id": "3a08a71c",
   "metadata": {},
   "outputs": [
    {
     "data": {
      "text/plain": [
       "-2.1075201676682633"
      ]
     },
     "execution_count": 19,
     "metadata": {},
     "output_type": "execute_result"
    }
   ],
   "source": [
    "reg.intercept_"
   ]
  },
  {
   "cell_type": "code",
   "execution_count": 22,
   "id": "a0850db3",
   "metadata": {},
   "outputs": [
    {
     "name": "stderr",
     "output_type": "stream",
     "text": [
      "/Library/Frameworks/Python.framework/Versions/3.7/lib/python3.7/site-packages/sklearn/base.py:446: UserWarning: X does not have valid feature names, but LinearRegression was fitted with feature names\n",
      "  \"X does not have valid feature names, but\"\n"
     ]
    },
    {
     "data": {
      "text/plain": [
       "array([3.11789902])"
      ]
     },
     "execution_count": 22,
     "metadata": {},
     "output_type": "execute_result"
    }
   ],
   "source": [
    "reg.predict([[3.5, 0.9]])"
   ]
  },
  {
   "cell_type": "code",
   "execution_count": null,
   "id": "59531eee",
   "metadata": {},
   "outputs": [],
   "source": []
  }
 ],
 "metadata": {
  "kernelspec": {
   "display_name": "Python 3",
   "language": "python",
   "name": "python3"
  },
  "language_info": {
   "codemirror_mode": {
    "name": "ipython",
    "version": 3
   },
   "file_extension": ".py",
   "mimetype": "text/x-python",
   "name": "python",
   "nbconvert_exporter": "python",
   "pygments_lexer": "ipython3",
   "version": "3.7.0"
  }
 },
 "nbformat": 4,
 "nbformat_minor": 5
}
